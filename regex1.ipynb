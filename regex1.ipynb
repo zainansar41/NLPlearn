{
 "cells": [
  {
   "cell_type": "code",
   "execution_count": 1,
   "metadata": {},
   "outputs": [],
   "source": [
    "import re"
   ]
  },
  {
   "cell_type": "code",
   "execution_count": 28,
   "metadata": {},
   "outputs": [],
   "source": [
    "chat1 = 'codebasics: you ask lot of questions 😠  1235678912, abc@xyz.com'\n",
    "chat2 = 'codebasics: here it is: (123)-567-8912, abc1_1223zain@xyz.com'\n",
    "chat3 = 'codebasics: yes, phone: 1235678912 email: abc@xyz.com'"
   ]
  },
  {
   "cell_type": "code",
   "execution_count": 32,
   "metadata": {},
   "outputs": [
    {
     "name": "stdout",
     "output_type": "stream",
     "text": [
      "['1235678912', 'abc@xyz.com']\n",
      "['(123)-567-8912', 'abc1_1223zain@xyz.com']\n",
      "['1235678912', 'abc@xyz.com']\n"
     ]
    }
   ],
   "source": [
    "pattern = '\\d{10}|\\(\\d{3}\\)-\\d{3}-\\d{4}|\\w+@[a-zA-Z]*\\.[a-zA-Z]*'\n",
    "print(re.findall(pattern, chat1))\n",
    "print(re.findall(pattern, chat2))\n",
    "print(re.findall(pattern, chat3))"
   ]
  },
  {
   "cell_type": "code",
   "execution_count": 51,
   "metadata": {},
   "outputs": [
    {
     "name": "stdout",
     "output_type": "stream",
     "text": [
      "['412889912']\n"
     ]
    }
   ],
   "source": [
    "chat4='chat: My order  :# 412889912 is having an issue, I was charged 300$ when online it says 280$'\n",
    "patternOrder = \"order[^\\d]*(\\d*)\" # [^\\d] means anything but a digit and () means capture group\n",
    "print(re.findall(patternOrder, chat4))"
   ]
  },
  {
   "cell_type": "code",
   "execution_count": 52,
   "metadata": {},
   "outputs": [],
   "source": [
    "text='''\n",
    "Born\tElon Reeve Musk\n",
    "June 28, 1971 (age 50)\n",
    "Pretoria, Transvaal, South Africa\n",
    "Citizenship\t\n",
    "South Africa (1971–present)\n",
    "Canada (1971–present)\n",
    "United States (2002–present)\n",
    "Education\tUniversity of Pennsylvania (BS, BA)\n",
    "Title\t\n",
    "Founder, CEO and Chief Engineer of SpaceX\n",
    "CEO and product architect of Tesla, Inc.\n",
    "Founder of The Boring Company and X.com (now part of PayPal)\n",
    "Co-founder of Neuralink, OpenAI, and Zip2\n",
    "Spouse(s)\t\n",
    "Justine Wilson\n",
    "​\n",
    "​(m. 2000; div. 2008)​\n",
    "Talulah Riley\n",
    "​\n",
    "​(m. 2010; div. 2012)​\n",
    "​\n",
    "​(m. 2013; div. 2016)\n",
    "'''\n"
   ]
  },
  {
   "cell_type": "code",
   "execution_count": 81,
   "metadata": {},
   "outputs": [
    {
     "name": "stdout",
     "output_type": "stream",
     "text": [
      "['50']\n",
      "['Elon Reeve Musk']\n",
      "['June 28, 1971']\n",
      "['Pretoria, Transvaal, South Africa']\n",
      "['Pretoria, Transvaal, South Africa']\n"
     ]
    }
   ],
   "source": [
    "age = \"age[^\\d](\\d+)\"\n",
    "print(re.findall(age, text))\n",
    "\n",
    "name = \"Born[^\\w]*(.*)\"\n",
    "print(re.findall(name, text))\n",
    "\n",
    "date_of_birth = \"Born.*\\n(.*)\\s\\(\" #\\s\\( means space and ( and .* means anything (not included in group)\n",
    "print(re.findall(date_of_birth, text))\n",
    "\n",
    "birth_place = \"Born.*\\n.*\\n(.*)\\n\"\n",
    "birth_place2 = \"\\(age.*\\n(.*)\\n\"\n",
    "print(re.findall(birth_place, text))\n",
    "print(re.findall(birth_place2, text))"
   ]
  }
 ],
 "metadata": {
  "kernelspec": {
   "display_name": "Python 3",
   "language": "python",
   "name": "python3"
  },
  "language_info": {
   "codemirror_mode": {
    "name": "ipython",
    "version": 3
   },
   "file_extension": ".py",
   "mimetype": "text/x-python",
   "name": "python",
   "nbconvert_exporter": "python",
   "pygments_lexer": "ipython3",
   "version": "3.11.4"
  }
 },
 "nbformat": 4,
 "nbformat_minor": 2
}
