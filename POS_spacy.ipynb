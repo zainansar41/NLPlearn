{
 "cells": [
  {
   "cell_type": "code",
   "execution_count": 2,
   "metadata": {},
   "outputs": [],
   "source": [
    "import spacy"
   ]
  },
  {
   "cell_type": "code",
   "execution_count": 3,
   "metadata": {},
   "outputs": [],
   "source": [
    "nlp = spacy.load(\"en_core_web_sm\")"
   ]
  },
  {
   "cell_type": "code",
   "execution_count": 14,
   "metadata": {},
   "outputs": [
    {
     "name": "stdout",
     "output_type": "stream",
     "text": [
      "Apple  |  PROPN  |  proper noun  |  Apple  |  NNP  |  noun, proper singular\n",
      "is  |  AUX  |  auxiliary  |  be  |  VBZ  |  verb, 3rd person singular present\n",
      "looking  |  VERB  |  verb  |  look  |  VBG  |  verb, gerund or present participle\n",
      "at  |  ADP  |  adposition  |  at  |  IN  |  conjunction, subordinating or preposition\n",
      "buying  |  VERB  |  verb  |  buy  |  VBG  |  verb, gerund or present participle\n",
      "U.K.  |  PROPN  |  proper noun  |  U.K.  |  NNP  |  noun, proper singular\n",
      "startup  |  NOUN  |  noun  |  startup  |  NN  |  noun, singular or mass\n",
      "for  |  ADP  |  adposition  |  for  |  IN  |  conjunction, subordinating or preposition\n",
      "$  |  SYM  |  symbol  |  $  |  $  |  symbol, currency\n",
      "1  |  NUM  |  numeral  |  1  |  CD  |  cardinal number\n",
      "billion  |  NUM  |  numeral  |  billion  |  CD  |  cardinal number\n",
      ".  |  PUNCT  |  punctuation  |  .  |  .  |  punctuation mark, sentence closer\n",
      "They  |  PRON  |  pronoun  |  they  |  PRP  |  pronoun, personal\n",
      "succeded  |  VERB  |  verb  |  succede  |  VBD  |  verb, past tense\n",
      "in  |  ADP  |  adposition  |  in  |  IN  |  conjunction, subordinating or preposition\n",
      "the  |  DET  |  determiner  |  the  |  DT  |  determiner\n",
      "attempt  |  NOUN  |  noun  |  attempt  |  NN  |  noun, singular or mass\n",
      ".  |  PUNCT  |  punctuation  |  .  |  .  |  punctuation mark, sentence closer\n"
     ]
    }
   ],
   "source": [
    "doc = nlp(\"Apple is looking at buying U.K. startup for $1 billion. They succeded in the attempt.\")\n",
    "\n",
    "for token in doc:\n",
    "    print(token.text, ' | ', token.pos_, ' | ', spacy.explain(token.pos_), ' | ', token.lemma_, ' | ', token.tag_, ' | ', spacy.explain(token.tag_))"
   ]
  },
  {
   "cell_type": "code",
   "execution_count": 15,
   "metadata": {},
   "outputs": [],
   "source": [
    "earnings_text=\"\"\"Microsoft Corp. today announced the following results for the quarter ended December 31, 2021, as compared to the corresponding period of last fiscal year:\n",
    "\n",
    "·         Revenue was $51.7 billion and increased 20%\n",
    "·         Operating income was $22.2 billion and increased 24%\n",
    "·         Net income was $18.8 billion and increased 21%\n",
    "·         Diluted earnings per share was $2.48 and increased 22%\n",
    "“Digital technology is the most malleable resource at the world’s disposal to overcome constraints and reimagine everyday work and life,” said Satya Nadella, chairman and chief executive officer of Microsoft. “As tech as a percentage of global GDP continues to increase, we are innovating and investing across diverse and growing markets, with a common underlying technology stack and an operating model that reinforces a common strategy, culture, and sense of purpose.”\n",
    "“Solid commercial execution, represented by strong bookings growth driven by long-term Azure commitments, increased Microsoft Cloud revenue to $22.1 billion, up 32% year over year” said Amy Hood, executive vice president and chief financial officer of Microsoft.\"\"\"\n"
   ]
  },
  {
   "cell_type": "code",
   "execution_count": 16,
   "metadata": {},
   "outputs": [],
   "source": [
    "earning_doc = nlp(earnings_text)"
   ]
  },
  {
   "cell_type": "code",
   "execution_count": 21,
   "metadata": {},
   "outputs": [
    {
     "data": {
      "text/plain": [
       "'Microsoft Corp. today announced the following results for the quarter ended December 31 2021 as compared to the corresponding period of last fiscal year Revenue was $ 51.7 billion and increased 20 % Operating income was $ 22.2 billion and increased 24 % Net income was $ 18.8 billion and increased 21 % Diluted earnings per share was $ 2.48 and increased 22 % Digital technology is the most malleable resource at the world ’s disposal to overcome constraints and reimagine everyday work and life said Satya Nadella chairman and chief executive officer of Microsoft As tech as a percentage of global GDP continues to increase we are innovating and investing across diverse and growing markets with a common underlying technology stack and an operating model that reinforces a common strategy culture and sense of purpose Solid commercial execution represented by strong bookings growth driven by long term Azure commitments increased Microsoft Cloud revenue to $ 22.1 billion up 32 % year over year said Amy Hood executive vice president and chief financial officer of Microsoft'"
      ]
     },
     "execution_count": 21,
     "metadata": {},
     "output_type": "execute_result"
    }
   ],
   "source": [
    "filtered_tokens = []\n",
    "for token in earning_doc:\n",
    "    if token.pos_ not in ['SPACE', 'PUNCT', 'X']:\n",
    "        filtered_tokens.append(token)\n",
    "\n",
    "filtered_tokens = ' '.join([str(t) for t in filtered_tokens])\n",
    "filtered_tokens"
   ]
  },
  {
   "cell_type": "code",
   "execution_count": 23,
   "metadata": {},
   "outputs": [
    {
     "data": {
      "text/plain": [
       "{96: 13,\n",
       " 92: 46,\n",
       " 100: 24,\n",
       " 90: 9,\n",
       " 85: 16,\n",
       " 93: 16,\n",
       " 97: 27,\n",
       " 98: 1,\n",
       " 84: 20,\n",
       " 103: 10,\n",
       " 87: 6,\n",
       " 99: 5,\n",
       " 89: 12,\n",
       " 86: 3,\n",
       " 94: 3,\n",
       " 95: 2}"
      ]
     },
     "execution_count": 23,
     "metadata": {},
     "output_type": "execute_result"
    }
   ],
   "source": [
    "count = earning_doc.count_by(spacy.attrs.POS)\n",
    "count"
   ]
  },
  {
   "cell_type": "code",
   "execution_count": 24,
   "metadata": {},
   "outputs": [
    {
     "name": "stdout",
     "output_type": "stream",
     "text": [
      "84. ADJ 20\n",
      "85. ADP 16\n",
      "86. ADV 3\n",
      "87. AUX 6\n",
      "89. CCONJ 12\n",
      "90. DET 9\n",
      "92. NOUN 46\n",
      "93. NUM 16\n",
      "94. PART 3\n",
      "95. PRON 2\n",
      "96. PROPN 13\n",
      "97. PUNCT 27\n",
      "98. SCONJ 1\n",
      "99. SYM 5\n",
      "100. VERB 24\n",
      "103. SPACE 10\n"
     ]
    }
   ],
   "source": [
    "for k,v in sorted(count.items()):\n",
    "    print(f'{k}. {earning_doc.vocab[k].text} {v}')"
   ]
  },
  {
   "cell_type": "code",
   "execution_count": null,
   "metadata": {},
   "outputs": [],
   "source": []
  }
 ],
 "metadata": {
  "kernelspec": {
   "display_name": "Python 3",
   "language": "python",
   "name": "python3"
  },
  "language_info": {
   "codemirror_mode": {
    "name": "ipython",
    "version": 3
   },
   "file_extension": ".py",
   "mimetype": "text/x-python",
   "name": "python",
   "nbconvert_exporter": "python",
   "pygments_lexer": "ipython3",
   "version": "3.11.4"
  }
 },
 "nbformat": 4,
 "nbformat_minor": 2
}
